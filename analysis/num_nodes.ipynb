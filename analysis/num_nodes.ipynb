{
 "cells": [
  {
   "cell_type": "code",
   "execution_count": 2,
   "id": "initial_id",
   "metadata": {
    "collapsed": true,
    "ExecuteTime": {
     "end_time": "2024-09-06T10:32:48.278689500Z",
     "start_time": "2024-09-06T10:32:46.871157600Z"
    }
   },
   "outputs": [],
   "source": [
    "import pandas as pd\n",
    "import matplotlib.pyplot as plt\n",
    "import seaborn as sns\n",
    "import glob\n",
    "from collections import defaultdict\n",
    "from collections import defaultdict\n",
    "import osmnx as ox\n",
    "\n",
    "sns.set(style={'style': \"whitegrid\", 'axes.grid' : False}, font_scale=1.5)"
   ]
  },
  {
   "cell_type": "code",
   "execution_count": 3,
   "outputs": [
    {
     "data": {
      "text/plain": "{'Winterswijk': 1926,\n 'Manhattan': 2533,\n 'Utrecht': 4557,\n 'Amsterdam': 3241,\n 'Rotterdam': 7108}"
     },
     "execution_count": 3,
     "metadata": {},
     "output_type": "execute_result"
    }
   ],
   "source": [
    "num_nodes_orig = dict()\n",
    "for city in ['Winterswijk', 'Manhattan', 'Utrecht', 'Amsterdam', 'Rotterdam']:\n",
    "    G = ox.load_graphml(f'../data/networks/{city}.graph.graphml')\n",
    "    num_nodes_orig[city] = len(G.nodes)\n",
    "\n",
    "    #results_per_file.query(f\"config == {config} & seed == {seed}\")\n",
    "num_nodes_orig"
   ],
   "metadata": {
    "collapsed": false,
    "ExecuteTime": {
     "end_time": "2024-09-06T10:32:53.290768900Z",
     "start_time": "2024-09-06T10:32:48.281682600Z"
    }
   },
   "id": "5f41b9c56ae239d7"
  },
  {
   "cell_type": "code",
   "execution_count": 5,
   "outputs": [
    {
     "data": {
      "text/plain": "{('Winterswijk', 0): 1453,\n ('Winterswijk', 1): 1395,\n ('Winterswijk', 2): 1375,\n ('Winterswijk', 3): 1368,\n ('Winterswijk', 4): 1366,\n ('Manhattan', 0): 2464,\n ('Utrecht', 0): 3969,\n ('Utrecht', 1): 3901,\n ('Utrecht', 2): 3882,\n ('Utrecht', 3): 3875,\n ('Utrecht', 4): 3872,\n ('Utrecht', 5): 3870,\n ('Amsterdam', 0): 3089,\n ('Amsterdam', 1): 3070,\n ('Amsterdam', 2): 3060,\n ('Amsterdam', 3): 3056,\n ('Amsterdam', 4): 3053,\n ('Amsterdam', 5): 3050,\n ('Rotterdam', 0): 6321,\n ('Rotterdam', 1): 6231,\n ('Rotterdam', 2): 6197,\n ('Rotterdam', 3): 6189,\n ('Rotterdam', 4): 6185,\n ('Rotterdam', 5): 6182,\n ('Rotterdam', 6): 6181}"
     },
     "execution_count": 5,
     "metadata": {},
     "output_type": "execute_result"
    }
   ],
   "source": [
    "max_iter_dict = {\n",
    "    'Winterswijk': 5,\n",
    "    'Manhattan': 1,\n",
    "    'Utrecht': 6, \n",
    "    'Amsterdam': 6, \n",
    "    'Rotterdam': 7\n",
    "}\n",
    "        \n",
    "num_nodes_pruning = dict()\n",
    "for city in ['Winterswijk', 'Manhattan', 'Utrecht', 'Amsterdam', 'Rotterdam']:\n",
    "    for iteration in range(max_iter_dict[city]):\n",
    "        G = ox.load_graphml(f'../data/networks/pruned_network_{city}_iter{iteration}.graph.graphml')\n",
    "        num_nodes_pruning[city, iteration] = len(G.nodes)\n",
    "    \n",
    "        #results_per_file.query(f\"config == {config} & seed == {seed}\")\n",
    "num_nodes_pruning"
   ],
   "metadata": {
    "collapsed": false,
    "ExecuteTime": {
     "end_time": "2024-09-06T10:33:57.082000500Z",
     "start_time": "2024-09-06T10:33:35.597659200Z"
    }
   },
   "id": "8f3565cf8c612887"
  },
  {
   "cell_type": "code",
   "execution_count": 4,
   "outputs": [
    {
     "data": {
      "text/plain": "{'Winterswijk': 563,\n 'Manhattan': 1393,\n 'Utrecht': 2172,\n 'Amsterdam': 1483,\n 'Rotterdam': 3345}"
     },
     "execution_count": 4,
     "metadata": {},
     "output_type": "execute_result"
    }
   ],
   "source": [
    "num_nodes_onthefly = dict()\n",
    "for city in ['Winterswijk', 'Manhattan', 'Utrecht', 'Amsterdam', 'Rotterdam']:\n",
    "    G = ox.load_graphml(f'../data/networks/onthefly_network_{city}.graph.graphml')\n",
    "    num_nodes_onthefly[city] = len(G.nodes)\n",
    "\n",
    "    #results_per_file.query(f\"config == {config} & seed == {seed}\")\n",
    "num_nodes_onthefly"
   ],
   "metadata": {
    "collapsed": false,
    "ExecuteTime": {
     "end_time": "2024-09-04T09:31:55.486362400Z",
     "start_time": "2024-09-04T09:31:53.143727600Z"
    }
   },
   "id": "17c73f223268a4ba"
  },
  {
   "cell_type": "code",
   "execution_count": 5,
   "outputs": [
    {
     "data": {
      "text/plain": "{('Winterswijk', 1): 1461,\n ('Winterswijk', 5): 1400,\n ('Winterswijk', 10): 1242,\n ('Winterswijk', 15): 1104,\n ('Winterswijk', 20): 940,\n ('Winterswijk', 25): 805,\n ('Winterswijk', 30): 639,\n ('Winterswijk', 35): 476,\n ('Winterswijk', 40): 357,\n ('Winterswijk', 45): 270,\n ('Winterswijk', 50): 195,\n ('Manhattan', 1): 2482,\n ('Manhattan', 5): 2446,\n ('Manhattan', 10): 2222,\n ('Manhattan', 15): 2104,\n ('Manhattan', 20): 2002,\n ('Manhattan', 25): 1899,\n ('Manhattan', 30): 1790,\n ('Manhattan', 35): 1607,\n ('Manhattan', 40): 724,\n ('Manhattan', 45): 204,\n ('Manhattan', 50): 159,\n ('Utrecht', 1): 3995,\n ('Utrecht', 5): 3760,\n ('Utrecht', 10): 3263,\n ('Utrecht', 15): 2889,\n ('Utrecht', 20): 2493,\n ('Utrecht', 25): 2049,\n ('Utrecht', 30): 1485,\n ('Utrecht', 35): 1076,\n ('Utrecht', 40): 803,\n ('Utrecht', 45): 592,\n ('Utrecht', 50): 445,\n ('Amsterdam', 1): 3103,\n ('Amsterdam', 5): 2778,\n ('Amsterdam', 10): 2101,\n ('Amsterdam', 15): 1809,\n ('Amsterdam', 20): 1637,\n ('Amsterdam', 25): 1533,\n ('Amsterdam', 30): 1460,\n ('Amsterdam', 35): 1419,\n ('Amsterdam', 40): 1360,\n ('Amsterdam', 45): 1297,\n ('Amsterdam', 50): 1259,\n ('Rotterdam', 1): 6392,\n ('Rotterdam', 5): 5903,\n ('Rotterdam', 10): 4924,\n ('Rotterdam', 15): 4370,\n ('Rotterdam', 20): 3851,\n ('Rotterdam', 25): 3296,\n ('Rotterdam', 30): 2518,\n ('Rotterdam', 35): 1795,\n ('Rotterdam', 40): 1251,\n ('Rotterdam', 45): 911,\n ('Rotterdam', 50): 719}"
     },
     "execution_count": 5,
     "metadata": {},
     "output_type": "execute_result"
    }
   ],
   "source": [
    "num_nodes_consolidated = dict()\n",
    "for city in ['Winterswijk', 'Manhattan', 'Utrecht', 'Amsterdam', 'Rotterdam']:\n",
    "    for tolerance in [1, 5, 10, 15, 20, 25, 30, 35, 40, 45, 50]:\n",
    "        G = ox.load_graphml(f'../data/networks/consolidated_network_{city}_{tolerance}.graph.graphml')\n",
    "        num_nodes_consolidated[city, tolerance] = len(G.nodes)\n",
    "\n",
    "    #results_per_file.query(f\"config == {config} & seed == {seed}\")\n",
    "num_nodes_consolidated"
   ],
   "metadata": {
    "collapsed": false,
    "ExecuteTime": {
     "end_time": "2024-09-04T09:32:34.596927800Z",
     "start_time": "2024-09-04T09:31:55.489324900Z"
    }
   },
   "id": "4e314ca36fe4c442"
  },
  {
   "cell_type": "code",
   "execution_count": 6,
   "outputs": [
    {
     "data": {
      "text/plain": "{('type', 'Winterswijk', 0, 1, 0): 1904,\n ('type', 'Winterswijk', 0, 1, 1000): 1890,\n ('type', 'Winterswijk', 0, 1000, 0): 1888,\n ('type', 'Winterswijk', 0, 1000, 1000): 1866,\n ('type', 'Winterswijk', 1, 1, 0): 1349,\n ('type', 'Winterswijk', 1, 1, 1000): 1333,\n ('type', 'Winterswijk', 1, 1000, 0): 1246,\n ('type', 'Winterswijk', 1, 1000, 1000): 1229,\n ('type', 'Manhattan', 0, 1, 0): 2427,\n ('type', 'Manhattan', 0, 1, 1000): 2262,\n ('type', 'Manhattan', 0, 1000, 0): 2336,\n ('type', 'Manhattan', 0, 1000, 1000): 2006,\n ('type', 'Manhattan', 1, 1, 0): 2258,\n ('type', 'Manhattan', 1, 1, 1000): 1995,\n ('type', 'Manhattan', 1, 1000, 0): 2128,\n ('type', 'Manhattan', 1, 1000, 1000): 1714,\n ('type', 'Utrecht', 0, 1, 0): 4288,\n ('type', 'Utrecht', 0, 1, 1000): 4179,\n ('type', 'Utrecht', 0, 1000, 0): 4020,\n ('type', 'Utrecht', 0, 1000, 1000): 3859,\n ('type', 'Utrecht', 1, 1, 0): 3380,\n ('type', 'Utrecht', 1, 1, 1000): 3271,\n ('type', 'Utrecht', 1, 1000, 0): 2854,\n ('type', 'Utrecht', 1, 1000, 1000): 2645,\n ('type', 'Amsterdam', 0, 1, 0): 2799,\n ('type', 'Amsterdam', 0, 1, 1000): 2468,\n ('type', 'Amsterdam', 0, 1000, 0): 2555,\n ('type', 'Amsterdam', 0, 1000, 1000): 2017,\n ('type', 'Amsterdam', 1, 1, 0): 2393,\n ('type', 'Amsterdam', 1, 1, 1000): 2060,\n ('type', 'Amsterdam', 1, 1000, 0): 1887,\n ('type', 'Amsterdam', 1, 1000, 1000): 1163,\n ('type', 'Rotterdam', 0, 1, 0): 6612,\n ('type', 'Rotterdam', 0, 1, 1000): 6406,\n ('type', 'Rotterdam', 0, 1000, 0): 6163,\n ('type', 'Rotterdam', 0, 1000, 1000): 5804,\n ('type', 'Rotterdam', 1, 1, 0): 5314,\n ('type', 'Rotterdam', 1, 1, 1000): 5044,\n ('type', 'Rotterdam', 1, 1000, 0): 4474,\n ('type', 'Rotterdam', 1, 1000, 1000): 3994,\n ('betweenness', 'Winterswijk', 0, 1, 0): 1926,\n ('betweenness', 'Winterswijk', 0, 1, 1000): 1890,\n ('betweenness', 'Winterswijk', 0, 1000, 0): 1926,\n ('betweenness', 'Winterswijk', 0, 1000, 1000): 1866,\n ('betweenness', 'Winterswijk', 1, 1, 0): 1451,\n ('betweenness', 'Winterswijk', 1, 1, 1000): 1333,\n ('betweenness', 'Winterswijk', 1, 1000, 0): 1320,\n ('betweenness', 'Winterswijk', 1, 1000, 1000): 1229,\n ('betweenness', 'Manhattan', 0, 1, 0): 2533,\n ('betweenness', 'Manhattan', 0, 1, 1000): 2262,\n ('betweenness', 'Manhattan', 0, 1000, 0): 2533,\n ('betweenness', 'Manhattan', 0, 1000, 1000): 2006,\n ('betweenness', 'Manhattan', 1, 1, 0): 2454,\n ('betweenness', 'Manhattan', 1, 1, 1000): 1995,\n ('betweenness', 'Manhattan', 1, 1000, 0): 2404,\n ('betweenness', 'Manhattan', 1, 1000, 1000): 1714,\n ('betweenness', 'Utrecht', 0, 1, 0): 4554,\n ('betweenness', 'Utrecht', 0, 1, 1000): 4179,\n ('betweenness', 'Utrecht', 0, 1000, 0): 4552,\n ('betweenness', 'Utrecht', 0, 1000, 1000): 3859,\n ('betweenness', 'Utrecht', 1, 1, 0): 3926,\n ('betweenness', 'Utrecht', 1, 1, 1000): 3271,\n ('betweenness', 'Utrecht', 1, 1000, 0): 3734,\n ('betweenness', 'Utrecht', 1, 1000, 1000): 2645,\n ('betweenness', 'Amsterdam', 0, 1, 0): 3241,\n ('betweenness', 'Amsterdam', 0, 1, 1000): 2468,\n ('betweenness', 'Amsterdam', 0, 1000, 0): 3241,\n ('betweenness', 'Amsterdam', 0, 1000, 1000): 2017,\n ('betweenness', 'Amsterdam', 1, 1, 0): 3073,\n ('betweenness', 'Amsterdam', 1, 1, 1000): 2060,\n ('betweenness', 'Amsterdam', 1, 1000, 0): 3007,\n ('betweenness', 'Amsterdam', 1, 1000, 1000): 1163,\n ('betweenness', 'Rotterdam', 0, 1, 0): 7100,\n ('betweenness', 'Rotterdam', 0, 1, 1000): 6406,\n ('betweenness', 'Rotterdam', 0, 1000, 0): 7098,\n ('betweenness', 'Rotterdam', 0, 1000, 1000): 5804,\n ('betweenness', 'Rotterdam', 1, 1, 0): 6288,\n ('betweenness', 'Rotterdam', 1, 1, 1000): 5044,\n ('betweenness', 'Rotterdam', 1, 1000, 0): 6046,\n ('betweenness', 'Rotterdam', 1, 1000, 1000): 3994}"
     },
     "execution_count": 6,
     "metadata": {},
     "output_type": "execute_result"
    }
   ],
   "source": [
    "num_nodes_panchamy = dict()\n",
    "for weights in ['type', 'betweenness']:\n",
    "    for city in ['Winterswijk', 'Manhattan', 'Utrecht', 'Amsterdam', 'Rotterdam']:\n",
    "        for pruning in [0, 1]:\n",
    "            for iterations in [1, 1000]:\n",
    "                for threshold in [0, 1000]:\n",
    "                    G = ox.load_graphml(f'../data/networks/panchamy_{weights}_{city}_pruning{pruning}_iter{iterations}_threshold{threshold}.graph.graphml')\n",
    "                    num_nodes_panchamy[weights, city, pruning, iterations, threshold] = len(G.nodes)\n",
    "\n",
    "num_nodes_panchamy"
   ],
   "metadata": {
    "collapsed": false,
    "ExecuteTime": {
     "end_time": "2024-09-04T09:34:30.079269700Z",
     "start_time": "2024-09-04T09:32:34.596927800Z"
    }
   },
   "id": "71736190be0e4a36"
  },
  {
   "cell_type": "code",
   "execution_count": 12,
   "outputs": [],
   "source": [
    "import pickle\n",
    "\n",
    "with open(f'./cleaned_data/num_nodes_orig.pkl', 'wb') as f:\n",
    "    pickle.dump(num_nodes_orig, f)\n",
    "    \n",
    "with open(f'./cleaned_data/num_nodes_pruning.pkl', 'wb') as f:\n",
    "    pickle.dump(num_nodes_pruning, f)\n",
    "    \n",
    "with open(f'./cleaned_data/num_nodes_onthefly.pkl', 'wb') as f:\n",
    "    pickle.dump(num_nodes_onthefly, f)\n",
    "    \n",
    "with open(f'./cleaned_data/num_nodes_consolidated.pkl', 'wb') as f:\n",
    "    pickle.dump(num_nodes_consolidated, f)\n",
    "    \n",
    "with open(f'./cleaned_data/num_nodes_panchamy.pkl', 'wb') as f:\n",
    "    pickle.dump(num_nodes_panchamy, f)"
   ],
   "metadata": {
    "collapsed": false,
    "ExecuteTime": {
     "end_time": "2024-09-03T11:27:02.972822700Z",
     "start_time": "2024-09-03T11:27:02.966748800Z"
    }
   },
   "id": "d4fb9e333f191039"
  },
  {
   "cell_type": "code",
   "execution_count": 12,
   "outputs": [],
   "source": [],
   "metadata": {
    "collapsed": false,
    "ExecuteTime": {
     "end_time": "2024-09-03T11:27:02.980011200Z",
     "start_time": "2024-09-03T11:27:02.975958700Z"
    }
   },
   "id": "30555f00f0082294"
  }
 ],
 "metadata": {
  "kernelspec": {
   "display_name": "Python 3",
   "language": "python",
   "name": "python3"
  },
  "language_info": {
   "codemirror_mode": {
    "name": "ipython",
    "version": 2
   },
   "file_extension": ".py",
   "mimetype": "text/x-python",
   "name": "python",
   "nbconvert_exporter": "python",
   "pygments_lexer": "ipython2",
   "version": "2.7.6"
  }
 },
 "nbformat": 4,
 "nbformat_minor": 5
}
